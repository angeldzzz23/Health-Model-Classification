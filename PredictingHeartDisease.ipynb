{
 "cells": [
  {
   "cell_type": "code",
   "execution_count": 6,
   "id": "65343547-7bcb-4315-a408-8f77ef1c2ea1",
   "metadata": {},
   "outputs": [],
   "source": [
    "import pandas as pd\n",
    "from sklearn.model_selection import train_test_split\n",
    "from sklearn.neighbors import KNeighborsClassifier\n",
    "from sklearn.tree import DecisionTreeClassifier\n",
    "from sklearn.linear_model import LogisticRegression\n",
    "from sklearn.metrics import accuracy_score\n",
    "from sklearn.model_selection import cross_val_score"
   ]
  },
  {
   "cell_type": "markdown",
   "id": "d56ea9aa-9e96-4bf2-a31a-708f6f97d642",
   "metadata": {},
   "source": [
    "# Reading the data set "
   ]
  },
  {
   "cell_type": "code",
   "execution_count": 2,
   "id": "f9911adc-ea3d-43b8-b46f-ab031133e88d",
   "metadata": {},
   "outputs": [],
   "source": [
    "df = pd.read_csv(\"https://github.com/mpourhoma/CS4661/raw/master/Heart_s2.csv\")\n"
   ]
  },
  {
   "cell_type": "code",
   "execution_count": 3,
   "id": "913d9826-bad0-41fb-ac20-75ae7d43af39",
   "metadata": {},
   "outputs": [
    {
     "data": {
      "text/html": [
       "<div>\n",
       "<style scoped>\n",
       "    .dataframe tbody tr th:only-of-type {\n",
       "        vertical-align: middle;\n",
       "    }\n",
       "\n",
       "    .dataframe tbody tr th {\n",
       "        vertical-align: top;\n",
       "    }\n",
       "\n",
       "    .dataframe thead th {\n",
       "        text-align: right;\n",
       "    }\n",
       "</style>\n",
       "<table border=\"1\" class=\"dataframe\">\n",
       "  <thead>\n",
       "    <tr style=\"text-align: right;\">\n",
       "      <th></th>\n",
       "      <th>Age</th>\n",
       "      <th>ChestPain</th>\n",
       "      <th>RestBP</th>\n",
       "      <th>Chol</th>\n",
       "      <th>RestECG</th>\n",
       "      <th>MaxHR</th>\n",
       "      <th>Oldpeak</th>\n",
       "      <th>Thal</th>\n",
       "      <th>AHD</th>\n",
       "    </tr>\n",
       "  </thead>\n",
       "  <tbody>\n",
       "    <tr>\n",
       "      <th>0</th>\n",
       "      <td>63</td>\n",
       "      <td>typical</td>\n",
       "      <td>145</td>\n",
       "      <td>233</td>\n",
       "      <td>2</td>\n",
       "      <td>150</td>\n",
       "      <td>2.3</td>\n",
       "      <td>fixed</td>\n",
       "      <td>No</td>\n",
       "    </tr>\n",
       "    <tr>\n",
       "      <th>1</th>\n",
       "      <td>67</td>\n",
       "      <td>asymptomatic</td>\n",
       "      <td>160</td>\n",
       "      <td>286</td>\n",
       "      <td>2</td>\n",
       "      <td>108</td>\n",
       "      <td>1.5</td>\n",
       "      <td>normal</td>\n",
       "      <td>Yes</td>\n",
       "    </tr>\n",
       "    <tr>\n",
       "      <th>2</th>\n",
       "      <td>67</td>\n",
       "      <td>asymptomatic</td>\n",
       "      <td>120</td>\n",
       "      <td>229</td>\n",
       "      <td>2</td>\n",
       "      <td>129</td>\n",
       "      <td>2.6</td>\n",
       "      <td>reversable</td>\n",
       "      <td>Yes</td>\n",
       "    </tr>\n",
       "    <tr>\n",
       "      <th>3</th>\n",
       "      <td>37</td>\n",
       "      <td>nonanginal</td>\n",
       "      <td>130</td>\n",
       "      <td>250</td>\n",
       "      <td>0</td>\n",
       "      <td>187</td>\n",
       "      <td>3.5</td>\n",
       "      <td>normal</td>\n",
       "      <td>No</td>\n",
       "    </tr>\n",
       "    <tr>\n",
       "      <th>4</th>\n",
       "      <td>41</td>\n",
       "      <td>nontypical</td>\n",
       "      <td>130</td>\n",
       "      <td>204</td>\n",
       "      <td>2</td>\n",
       "      <td>172</td>\n",
       "      <td>1.4</td>\n",
       "      <td>normal</td>\n",
       "      <td>No</td>\n",
       "    </tr>\n",
       "  </tbody>\n",
       "</table>\n",
       "</div>"
      ],
      "text/plain": [
       "   Age     ChestPain  RestBP  Chol  RestECG  MaxHR  Oldpeak        Thal  AHD\n",
       "0   63       typical     145   233        2    150      2.3       fixed   No\n",
       "1   67  asymptomatic     160   286        2    108      1.5      normal  Yes\n",
       "2   67  asymptomatic     120   229        2    129      2.6  reversable  Yes\n",
       "3   37    nonanginal     130   250        0    187      3.5      normal   No\n",
       "4   41    nontypical     130   204        2    172      1.4      normal   No"
      ]
     },
     "execution_count": 3,
     "metadata": {},
     "output_type": "execute_result"
    }
   ],
   "source": [
    "df.head()"
   ]
  },
  {
   "cell_type": "markdown",
   "id": "fee5e043-c2f8-42b2-bd95-3b643d8d6810",
   "metadata": {},
   "source": [
    "# info about the dataset\n",
    "\n",
    "- contains age, chestpain, restECG, maxHR, oldpeak, thal and AHD"
   ]
  },
  {
   "cell_type": "code",
   "execution_count": 4,
   "id": "dd37955e-0d92-437d-bd04-468f4b85cb2b",
   "metadata": {},
   "outputs": [],
   "source": [
    "feature_cols = ['Age','RestECG', 'Chol', 'RestECG', 'MaxHR', 'Oldpeak']\n",
    "y = df['AHD']\n",
    "X = df[feature_cols]  "
   ]
  },
  {
   "cell_type": "markdown",
   "id": "0aa830e4-41b8-4dad-b390-bb6e8422f682",
   "metadata": {},
   "source": [
    "# Splitting the dataset and trainign sets with following parameters: \n",
    "test_size=0.20, random_state=9"
   ]
  },
  {
   "cell_type": "code",
   "execution_count": 7,
   "id": "4238b923-6bd1-4502-995e-53618169b057",
   "metadata": {},
   "outputs": [],
   "source": [
    "X_train, X_test, y_train, y_test = train_test_split(X, y, test_size=0.20, random_state=9)\n"
   ]
  },
  {
   "cell_type": "markdown",
   "id": "7a1b30d2-d2d9-41f8-bd80-291d74956e8a",
   "metadata": {},
   "source": [
    "# Using Knn, decision Tree and Logistic Regression\n",
    "\n",
    "Use KNN (with k=7), Decision Tree (with random_state=5 (this random state is used when you define your decision tree classifier, and it is different from the random state that you used to split the data in part D)), and Logistic Regression Classifiers (with max_iter=400) to predict Heart Disease based on the training/testing datasets that you built in part (D). Then check, compare, and report the accuracy of these 3 classifiers. Which one is the best? Which one is the worst?"
   ]
  },
  {
   "cell_type": "markdown",
   "id": "f7c723d1-b5c9-4f23-ac90-ca1f4ae495d0",
   "metadata": {},
   "source": [
    "## Knn"
   ]
  },
  {
   "cell_type": "code",
   "execution_count": 9,
   "id": "04c253b6-ca5a-4708-9241-f0dc7bab833f",
   "metadata": {},
   "outputs": [
    {
     "name": "stdout",
     "output_type": "stream",
     "text": [
      "KNN Accuracy: 0.6229508196721312\n"
     ]
    }
   ],
   "source": [
    "knn = KNeighborsClassifier(n_neighbors=7)\n",
    "knn.fit(X_train, y_train)\n",
    "knn_predictions = knn.predict(X_test)\n",
    "knn_accuracy = accuracy_score(y_test, knn_predictions)\n",
    "print(f\"KNN Accuracy: {knn_accuracy}\")"
   ]
  },
  {
   "cell_type": "markdown",
   "id": "dd926576-8c1c-400f-b03c-270cee9e83ef",
   "metadata": {},
   "source": [
    "# Decision tree"
   ]
  },
  {
   "cell_type": "code",
   "execution_count": null,
   "id": "9f1e9c13-d51e-4e03-998d-1786a68436d7",
   "metadata": {},
   "outputs": [],
   "source": []
  }
 ],
 "metadata": {
  "kernelspec": {
   "display_name": "Python 3 (ipykernel)",
   "language": "python",
   "name": "python3"
  },
  "language_info": {
   "codemirror_mode": {
    "name": "ipython",
    "version": 3
   },
   "file_extension": ".py",
   "mimetype": "text/x-python",
   "name": "python",
   "nbconvert_exporter": "python",
   "pygments_lexer": "ipython3",
   "version": "3.11.6"
  }
 },
 "nbformat": 4,
 "nbformat_minor": 5
}
