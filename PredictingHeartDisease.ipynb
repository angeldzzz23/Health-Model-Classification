{
 "cells": [
  {
   "cell_type": "code",
   "execution_count": null,
   "id": "65343547-7bcb-4315-a408-8f77ef1c2ea1",
   "metadata": {},
   "outputs": [],
   "source": []
  }
 ],
 "metadata": {
  "kernelspec": {
   "display_name": "",
   "name": ""
  },
  "language_info": {
   "name": ""
  }
 },
 "nbformat": 4,
 "nbformat_minor": 5
}
