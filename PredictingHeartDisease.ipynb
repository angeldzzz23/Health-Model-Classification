{
 "cells": [
  {
   "cell_type": "code",
   "execution_count": 6,
   "id": "65343547-7bcb-4315-a408-8f77ef1c2ea1",
   "metadata": {},
   "outputs": [],
   "source": [
    "import pandas as pd\n",
    "from sklearn.model_selection import train_test_split\n",
    "from sklearn.neighbors import KNeighborsClassifier\n",
    "from sklearn.tree import DecisionTreeClassifier\n",
    "from sklearn.linear_model import LogisticRegression\n",
    "from sklearn.metrics import accuracy_score\n",
    "from sklearn.model_selection import cross_val_score"
   ]
  },
  {
   "cell_type": "markdown",
   "id": "d56ea9aa-9e96-4bf2-a31a-708f6f97d642",
   "metadata": {},
   "source": [
    "# Reading the data set "
   ]
  },
  {
   "cell_type": "code",
   "execution_count": 2,
   "id": "f9911adc-ea3d-43b8-b46f-ab031133e88d",
   "metadata": {},
   "outputs": [],
   "source": [
    "df = pd.read_csv(\"https://github.com/mpourhoma/CS4661/raw/master/Heart_s2.csv\")\n"
   ]
  },
  {
   "cell_type": "code",
   "execution_count": 3,
   "id": "913d9826-bad0-41fb-ac20-75ae7d43af39",
   "metadata": {},
   "outputs": [
    {
     "data": {
      "text/html": [
       "<div>\n",
       "<style scoped>\n",
       "    .dataframe tbody tr th:only-of-type {\n",
       "        vertical-align: middle;\n",
       "    }\n",
       "\n",
       "    .dataframe tbody tr th {\n",
       "        vertical-align: top;\n",
       "    }\n",
       "\n",
       "    .dataframe thead th {\n",
       "        text-align: right;\n",
       "    }\n",
       "</style>\n",
       "<table border=\"1\" class=\"dataframe\">\n",
       "  <thead>\n",
       "    <tr style=\"text-align: right;\">\n",
       "      <th></th>\n",
       "      <th>Age</th>\n",
       "      <th>ChestPain</th>\n",
       "      <th>RestBP</th>\n",
       "      <th>Chol</th>\n",
       "      <th>RestECG</th>\n",
       "      <th>MaxHR</th>\n",
       "      <th>Oldpeak</th>\n",
       "      <th>Thal</th>\n",
       "      <th>AHD</th>\n",
       "    </tr>\n",
       "  </thead>\n",
       "  <tbody>\n",
       "    <tr>\n",
       "      <th>0</th>\n",
       "      <td>63</td>\n",
       "      <td>typical</td>\n",
       "      <td>145</td>\n",
       "      <td>233</td>\n",
       "      <td>2</td>\n",
       "      <td>150</td>\n",
       "      <td>2.3</td>\n",
       "      <td>fixed</td>\n",
       "      <td>No</td>\n",
       "    </tr>\n",
       "    <tr>\n",
       "      <th>1</th>\n",
       "      <td>67</td>\n",
       "      <td>asymptomatic</td>\n",
       "      <td>160</td>\n",
       "      <td>286</td>\n",
       "      <td>2</td>\n",
       "      <td>108</td>\n",
       "      <td>1.5</td>\n",
       "      <td>normal</td>\n",
       "      <td>Yes</td>\n",
       "    </tr>\n",
       "    <tr>\n",
       "      <th>2</th>\n",
       "      <td>67</td>\n",
       "      <td>asymptomatic</td>\n",
       "      <td>120</td>\n",
       "      <td>229</td>\n",
       "      <td>2</td>\n",
       "      <td>129</td>\n",
       "      <td>2.6</td>\n",
       "      <td>reversable</td>\n",
       "      <td>Yes</td>\n",
       "    </tr>\n",
       "    <tr>\n",
       "      <th>3</th>\n",
       "      <td>37</td>\n",
       "      <td>nonanginal</td>\n",
       "      <td>130</td>\n",
       "      <td>250</td>\n",
       "      <td>0</td>\n",
       "      <td>187</td>\n",
       "      <td>3.5</td>\n",
       "      <td>normal</td>\n",
       "      <td>No</td>\n",
       "    </tr>\n",
       "    <tr>\n",
       "      <th>4</th>\n",
       "      <td>41</td>\n",
       "      <td>nontypical</td>\n",
       "      <td>130</td>\n",
       "      <td>204</td>\n",
       "      <td>2</td>\n",
       "      <td>172</td>\n",
       "      <td>1.4</td>\n",
       "      <td>normal</td>\n",
       "      <td>No</td>\n",
       "    </tr>\n",
       "  </tbody>\n",
       "</table>\n",
       "</div>"
      ],
      "text/plain": [
       "   Age     ChestPain  RestBP  Chol  RestECG  MaxHR  Oldpeak        Thal  AHD\n",
       "0   63       typical     145   233        2    150      2.3       fixed   No\n",
       "1   67  asymptomatic     160   286        2    108      1.5      normal  Yes\n",
       "2   67  asymptomatic     120   229        2    129      2.6  reversable  Yes\n",
       "3   37    nonanginal     130   250        0    187      3.5      normal   No\n",
       "4   41    nontypical     130   204        2    172      1.4      normal   No"
      ]
     },
     "execution_count": 3,
     "metadata": {},
     "output_type": "execute_result"
    }
   ],
   "source": [
    "df.head()"
   ]
  },
  {
   "cell_type": "markdown",
   "id": "fee5e043-c2f8-42b2-bd95-3b643d8d6810",
   "metadata": {},
   "source": [
    "# info about the dataset\n",
    "\n",
    "- contains age, chestpain, restECG, maxHR, oldpeak, thal and AHD"
   ]
  },
  {
   "cell_type": "code",
   "execution_count": 4,
   "id": "dd37955e-0d92-437d-bd04-468f4b85cb2b",
   "metadata": {},
   "outputs": [],
   "source": [
    "feature_cols = ['Age','RestECG', 'Chol', 'RestECG', 'MaxHR', 'Oldpeak']\n",
    "y = df['AHD']\n",
    "X = df[feature_cols]  "
   ]
  },
  {
   "cell_type": "markdown",
   "id": "0aa830e4-41b8-4dad-b390-bb6e8422f682",
   "metadata": {},
   "source": [
    "# Splitting the dataset and trainign sets with following parameters: \n",
    "test_size=0.20, random_state=9"
   ]
  },
  {
   "cell_type": "code",
   "execution_count": 7,
   "id": "4238b923-6bd1-4502-995e-53618169b057",
   "metadata": {},
   "outputs": [],
   "source": [
    "X_train, X_test, y_train, y_test = train_test_split(X, y, test_size=0.20, random_state=9)\n"
   ]
  },
  {
   "cell_type": "markdown",
   "id": "7a1b30d2-d2d9-41f8-bd80-291d74956e8a",
   "metadata": {},
   "source": [
    "# Using Knn, decision Tree and Logistic Regression\n",
    "\n",
    "Use KNN (with k=7), Decision Tree (with random_state=5 (this random state is used when you define your decision tree classifier, and it is different from the random state that you used to split the data in part D)), and Logistic Regression Classifiers (with max_iter=400) to predict Heart Disease based on the training/testing datasets that you built in part (D). Then check, compare, and report the accuracy of these 3 classifiers. Which one is the best? Which one is the worst?"
   ]
  },
  {
   "cell_type": "markdown",
   "id": "f7c723d1-b5c9-4f23-ac90-ca1f4ae495d0",
   "metadata": {},
   "source": [
    "## Knn"
   ]
  },
  {
   "cell_type": "code",
   "execution_count": 9,
   "id": "04c253b6-ca5a-4708-9241-f0dc7bab833f",
   "metadata": {},
   "outputs": [
    {
     "name": "stdout",
     "output_type": "stream",
     "text": [
      "KNN Accuracy: 0.6229508196721312\n"
     ]
    }
   ],
   "source": [
    "knn = KNeighborsClassifier(n_neighbors=7)\n",
    "knn.fit(X_train, y_train)\n",
    "knn_predictions = knn.predict(X_test)\n",
    "knn_accuracy = accuracy_score(y_test, knn_predictions)\n",
    "print(f\"KNN Accuracy: {knn_accuracy}\")"
   ]
  },
  {
   "cell_type": "markdown",
   "id": "dd926576-8c1c-400f-b03c-270cee9e83ef",
   "metadata": {},
   "source": [
    "# Decision tree"
   ]
  },
  {
   "cell_type": "code",
   "execution_count": 10,
   "id": "9f1e9c13-d51e-4e03-998d-1786a68436d7",
   "metadata": {},
   "outputs": [
    {
     "name": "stdout",
     "output_type": "stream",
     "text": [
      "Decision Tree Accuracy: 0.5901639344262295\n"
     ]
    }
   ],
   "source": [
    "dt = DecisionTreeClassifier(random_state=5)\n",
    "dt.fit(X_train, y_train)\n",
    "dt_predictions = dt.predict(X_test)\n",
    "dt_accuracy = accuracy_score(y_test, dt_predictions)\n",
    "print(f\"Decision Tree Accuracy: {dt_accuracy}\")"
   ]
  },
  {
   "cell_type": "markdown",
   "id": "005ea0f9-a4fb-439a-97fe-a303b7083e31",
   "metadata": {},
   "source": [
    "## WHich one is the best? \n",
    "\n",
    "Logistic regression gives us the best accuracy and the worst is decision tree classifier. \n"
   ]
  },
  {
   "cell_type": "code",
   "execution_count": 11,
   "id": "240829f5-b9b7-434e-bc5d-70c9f565485e",
   "metadata": {},
   "outputs": [
    {
     "name": "stdout",
     "output_type": "stream",
     "text": [
      "Logistic Regression Accuracy: 0.7704918032786885\n"
     ]
    }
   ],
   "source": [
    "lr = LogisticRegression(max_iter=400)\n",
    "lr.fit(X_train, y_train)\n",
    "lr_predictions = lr.predict(X_test)\n",
    "lr_accuracy = accuracy_score(y_test, lr_predictions)\n",
    "print(f\"Logistic Regression Accuracy: {lr_accuracy}\")"
   ]
  },
  {
   "cell_type": "markdown",
   "id": "92ad1feb-5f16-464d-94e2-a01ee17f79f6",
   "metadata": {},
   "source": [
    "# One hot encoding\n",
    "\n",
    "To this end, we have to perform a feature engineering process called OneHotEncoding for the categorical features. To do this, each categorical feature should be replaced with dummy columns in the feature table (one column for each possible value of a categorical feature), and then encode it in a binary manner such that only one of the dummy columns can take “1” at a time (and zero for the rest). For example, “Thal” can take three values “fixed” and “normal” and \"reversable\". Thus, we need to replace this feature (in the feature table) with 3 columns titled “fixed”, “normal”, and \"reversable\".  Wherever we have a value \"fixed\", we should put “1”, ”0”, \"0\" in the columns “fixed” and “normal” and \"reversable\". \n",
    "\n",
    "How does the prediction accuracy change for each method?"
   ]
  },
  {
   "cell_type": "code",
   "execution_count": 26,
   "id": "5db0b2cf-5a5f-4855-9cf8-540cae2f0c64",
   "metadata": {},
   "outputs": [],
   "source": [
    "df = pd.read_csv(\"https://github.com/mpourhoma/CS4661/raw/master/Heart_s2.csv\")\n"
   ]
  },
  {
   "cell_type": "code",
   "execution_count": 15,
   "id": "1a48c41c-0b10-4f2c-b075-48e5a373d6f6",
   "metadata": {},
   "outputs": [],
   "source": [
    "categorical_features = ['ChestPain', 'Thal']\n",
    "numerical_features = [col for col in df.columns if col not in categorical_features + ['AHD']]"
   ]
  },
  {
   "cell_type": "code",
   "execution_count": 27,
   "id": "3f25caf0-ac63-4de9-bf5b-9033a771694a",
   "metadata": {},
   "outputs": [
    {
     "name": "stdout",
     "output_type": "stream",
     "text": [
      "Numerical features: ['Age', 'RestBP', 'Chol', 'RestECG', 'MaxHR', 'Oldpeak']\n",
      "Categorical features: ['ChestPain', 'Thal']\n"
     ]
    }
   ],
   "source": [
    "print(\"Numerical features:\", numerical_features)\n",
    "print(\"Categorical features:\", categorical_features)"
   ]
  },
  {
   "cell_type": "code",
   "execution_count": 28,
   "id": "5d2c8347-ca4c-4ecc-b2c8-b9ca6ee8f17f",
   "metadata": {},
   "outputs": [
    {
     "name": "stdout",
     "output_type": "stream",
     "text": [
      "Numerical features shape: (301, 6)\n"
     ]
    }
   ],
   "source": [
    "X_numerical = df[numerical_features]\n",
    "print(\"Numerical features shape:\", X_numerical.shape)"
   ]
  },
  {
   "cell_type": "code",
   "execution_count": 29,
   "id": "42035675-7d72-4c4e-95c7-d68c5824e6b9",
   "metadata": {},
   "outputs": [
    {
     "name": "stdout",
     "output_type": "stream",
     "text": [
      "One-hot encoded categorical features shape: (301, 7)\n",
      "One-hot encoded columns: ['ChestPain_asymptomatic', 'ChestPain_nonanginal', 'ChestPain_nontypical', 'ChestPain_typical', 'Thal_fixed', 'Thal_normal', 'Thal_reversable']\n"
     ]
    }
   ],
   "source": [
    "X_categorical = pd.get_dummies(df[categorical_features], prefix=categorical_features)\n",
    "print(\"One-hot encoded categorical features shape:\", X_categorical.shape)\n",
    "print(\"One-hot encoded columns:\", X_categorical.columns.tolist())"
   ]
  },
  {
   "cell_type": "code",
   "execution_count": 31,
   "id": "4ed9992f-589b-44c8-b38d-45c60d225db3",
   "metadata": {},
   "outputs": [
    {
     "name": "stdout",
     "output_type": "stream",
     "text": [
      "Combined feature matrix shape: (301, 13)\n"
     ]
    }
   ],
   "source": [
    "X = pd.concat([X_numerical, X_categorical], axis=1)\n",
    "print(\"Combined feature matrix shape:\", X.shape)\n"
   ]
  },
  {
   "cell_type": "code",
   "execution_count": 32,
   "id": "bd8389f5-8e72-40d1-aa20-75b210644106",
   "metadata": {},
   "outputs": [
    {
     "name": "stdout",
     "output_type": "stream",
     "text": [
      "Label distribution:\n",
      "AHD\n",
      "No     163\n",
      "Yes    138\n",
      "Name: count, dtype: int64\n"
     ]
    }
   ],
   "source": [
    "# preparing label vector \n",
    "y = df['AHD']\n",
    "print(\"Label distribution:\")\n",
    "print(y.value_counts())"
   ]
  },
  {
   "cell_type": "code",
   "execution_count": 33,
   "id": "d25659d6-7464-4a2f-8591-9a28b3a99c7e",
   "metadata": {},
   "outputs": [],
   "source": [
    "X_train, X_test, y_train, y_test = train_test_split(X, y, test_size=0.20, random_state=9)"
   ]
  },
  {
   "cell_type": "code",
   "execution_count": 34,
   "id": "41d9bde0-fe58-4da3-824e-c3186d6c64be",
   "metadata": {},
   "outputs": [
    {
     "name": "stdout",
     "output_type": "stream",
     "text": [
      "Training set size: 240\n",
      "Testing set size: 61\n",
      "Number of features: 13\n"
     ]
    }
   ],
   "source": [
    "print(f\"Training set size: {X_train.shape[0]}\")\n",
    "print(f\"Testing set size: {X_test.shape[0]}\")\n",
    "print(f\"Number of features: {X_train.shape[1]}\")"
   ]
  },
  {
   "cell_type": "code",
   "execution_count": 37,
   "id": "0dd7ab36-cb00-4d83-93e6-6976abe2df12",
   "metadata": {},
   "outputs": [],
   "source": [
    "knn = KNeighborsClassifier(n_neighbors=7)\n",
    "dt = DecisionTreeClassifier(random_state=5)\n",
    "lr = LogisticRegression(max_iter=400)\n",
    "\n",
    "results = {}\n",
    "\n",
    "\n",
    "classifiers = {\n",
    "    'KNN (k=7)': knn,\n",
    "    'Decision Tree': dt,\n",
    "    'Logistic Regression': lr\n",
    "}\n"
   ]
  },
  {
   "cell_type": "code",
   "execution_count": 38,
   "id": "d5f74bbf-a0ba-48a0-8d91-907d99e9998a",
   "metadata": {},
   "outputs": [
    {
     "name": "stdout",
     "output_type": "stream",
     "text": [
      "\n",
      "Training KNN (k=7)...\n",
      "KNN (k=7) Accuracy: 0.6230 (62.30%)\n",
      "\n",
      "Training Decision Tree...\n",
      "Decision Tree Accuracy: 0.7377 (73.77%)\n",
      "\n",
      "Training Logistic Regression...\n",
      "Logistic Regression Accuracy: 0.7869 (78.69%)\n"
     ]
    }
   ],
   "source": [
    "for name, clf in classifiers.items():\n",
    "    print(f\"\\nTraining {name}...\")\n",
    "    \n",
    "    # Train the classifier\n",
    "    clf.fit(X_train, y_train)\n",
    "    \n",
    "    # Make predictions\n",
    "    y_pred = clf.predict(X_test)\n",
    "    \n",
    "    # Calculate accuracy\n",
    "    accuracy = accuracy_score(y_test, y_pred)\n",
    "    results[name] = accuracy\n",
    "    \n",
    "    print(f\"{name} Accuracy: {accuracy:.4f} ({accuracy*100:.2f}%)\")"
   ]
  },
  {
   "cell_type": "code",
   "execution_count": null,
   "id": "085281b7-ebd7-40b5-9b6f-9dc12c7ba801",
   "metadata": {},
   "outputs": [],
   "source": []
  }
 ],
 "metadata": {
  "kernelspec": {
   "display_name": "Python 3 (ipykernel)",
   "language": "python",
   "name": "python3"
  },
  "language_info": {
   "codemirror_mode": {
    "name": "ipython",
    "version": 3
   },
   "file_extension": ".py",
   "mimetype": "text/x-python",
   "name": "python",
   "nbconvert_exporter": "python",
   "pygments_lexer": "ipython3",
   "version": "3.11.6"
  }
 },
 "nbformat": 4,
 "nbformat_minor": 5
}
